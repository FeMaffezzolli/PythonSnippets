{
  "nbformat": 4,
  "nbformat_minor": 0,
  "metadata": {
    "colab": {
      "name": "Automata.ipynb",
      "version": "0.3.2",
      "provenance": [],
      "collapsed_sections": [],
      "include_colab_link": true
    },
    "kernelspec": {
      "name": "python3",
      "display_name": "Python 3"
    }
  },
  "cells": [
    {
      "cell_type": "markdown",
      "metadata": {
        "id": "view-in-github",
        "colab_type": "text"
      },
      "source": [
        "[View in Colaboratory](https://colab.research.google.com/github/FeMaffezzolli/PythonSnippets/blob/master/Automata.ipynb)"
      ]
    },
    {
      "metadata": {
        "id": "1y_YeFEfHkvq",
        "colab_type": "code",
        "colab": {}
      },
      "cell_type": "code",
      "source": [
        "import matplotlib.pyplot as plt\n",
        "import numpy as np\n",
        "import random as rd"
      ],
      "execution_count": 0,
      "outputs": []
    },
    {
      "metadata": {
        "id": "CiWSorJ0KS5o",
        "colab_type": "code",
        "colab": {}
      },
      "cell_type": "code",
      "source": [
        "xLen = 3\n",
        "yLen = 3"
      ],
      "execution_count": 0,
      "outputs": []
    },
    {
      "metadata": {
        "id": "HlwuBQDhKS2M",
        "colab_type": "code",
        "colab": {
          "base_uri": "https://localhost:8080/",
          "height": 34
        },
        "outputId": "49a99429-381b-4ef5-eda2-cae88b9ac8dc"
      },
      "cell_type": "code",
      "source": [
        "objects = {}\n",
        "\n",
        "'''\n",
        "Chave será uma tupla do index\n",
        "Valor será o objeto\n",
        "'''"
      ],
      "execution_count": 4,
      "outputs": [
        {
          "output_type": "execute_result",
          "data": {
            "text/plain": [
              "'\\nChave será uma tupla do index\\nValor será o objeto\\n'"
            ]
          },
          "metadata": {
            "tags": []
          },
          "execution_count": 4
        }
      ]
    },
    {
      "metadata": {
        "id": "EDK28EBuH1bc",
        "colab_type": "code",
        "colab": {}
      },
      "cell_type": "code",
      "source": [
        "class cell(object):\n",
        "    \n",
        "    def __init__(self, xIndex, xLen, yIndex, yLen):\n",
        "        \n",
        "        self.position = (xIndex, yIndex)\n",
        "        \n",
        "        self.Up = (xIndex-1, yIndex)            \n",
        "       \n",
        "        self.Down = (0,yIndex)\n",
        "        \n",
        "        \n",
        "        self.Down = (xIndex+1,yIndex)\n",
        "        \n",
        "        \n",
        "        self.Left = (xIndex, yIndex-1)   \n",
        "        \n",
        "        \n",
        "        \n",
        "        self.Right = (xIndex, 0)\n",
        "        self.Right = (xIndex, yIndex+1)\n",
        "        \n",
        "        \n",
        "        self.cellState = rd.randint(0,1)\n",
        "        \n",
        "    def __str__ (self):\n",
        "        return self.position"
      ],
      "execution_count": 0,
      "outputs": []
    },
    {
      "metadata": {
        "id": "-hjXBiUHLX-S",
        "colab_type": "code",
        "colab": {}
      },
      "cell_type": "code",
      "source": [
        "for i in range((xLen)):\n",
        "    for j in range((yLen)):\n",
        "        key = (i,j)\n",
        "        obj = cell(xIndex=i,yIndex=j, xLen=xLen, yLen=yLen)\n",
        "        objects[key] = obj"
      ],
      "execution_count": 0,
      "outputs": []
    },
    {
      "metadata": {
        "id": "Z3XOaxPHQX4C",
        "colab_type": "code",
        "colab": {
          "base_uri": "https://localhost:8080/",
          "height": 170
        },
        "outputId": "11fbc867-b8f2-41f7-e128-43bcda4140c9"
      },
      "cell_type": "code",
      "source": [
        "objects"
      ],
      "execution_count": 7,
      "outputs": [
        {
          "output_type": "execute_result",
          "data": {
            "text/plain": [
              "{(0, 0): <__main__.cell at 0x7fcc3c322e48>,\n",
              " (0, 1): <__main__.cell at 0x7fcc3c322e80>,\n",
              " (0, 2): <__main__.cell at 0x7fcc3c322e10>,\n",
              " (1, 0): <__main__.cell at 0x7fcc3c322a90>,\n",
              " (1, 1): <__main__.cell at 0x7fcc3c322da0>,\n",
              " (1, 2): <__main__.cell at 0x7fcc3c322ac8>,\n",
              " (2, 0): <__main__.cell at 0x7fcc3c322cc0>,\n",
              " (2, 1): <__main__.cell at 0x7fcc3c322d30>,\n",
              " (2, 2): <__main__.cell at 0x7fcc3c322d68>}"
            ]
          },
          "metadata": {
            "tags": []
          },
          "execution_count": 7
        }
      ]
    },
    {
      "metadata": {
        "id": "Irbiti2KQX1W",
        "colab_type": "code",
        "colab": {}
      },
      "cell_type": "code",
      "source": [
        ""
      ],
      "execution_count": 0,
      "outputs": []
    },
    {
      "metadata": {
        "id": "q6Fhb7TcQXyI",
        "colab_type": "code",
        "colab": {}
      },
      "cell_type": "code",
      "source": [
        ""
      ],
      "execution_count": 0,
      "outputs": []
    }
  ]
}